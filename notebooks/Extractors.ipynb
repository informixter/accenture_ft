{
 "cells": [
  {
   "cell_type": "code",
   "execution_count": 34,
   "id": "4112fe79",
   "metadata": {},
   "outputs": [],
   "source": [
    "import pandas as pd\n",
    "import requests\n",
    "from pandas_datareader import data as pdr\n",
    "import yfinance as yf"
   ]
  },
  {
   "cell_type": "code",
   "execution_count": 51,
   "id": "8828222e",
   "metadata": {},
   "outputs": [],
   "source": [
    "source_file = \"data.xlsx\" # исходник данных для получения universe\n",
    "start = '2017-01-01' # дата начало получения для finance.yahoo.com\n",
    "end = '2021-09-04' # дата окончания получения для finance.yahoo.com\n"
   ]
  },
  {
   "cell_type": "code",
   "execution_count": 53,
   "id": "9193dc59",
   "metadata": {},
   "outputs": [],
   "source": [
    "main_data = pd.read_excel(source_file, index_col=None, engine=\"openpyxl\", parse_dates=True, sheet_name = \"universe\")\n",
    "\n",
    "naufor_df = main_data[main_data['source']==\"naufor.ru\"]\n",
    "naufor_codes = naufor_df['code'].to_numpy().tolist()\n",
    "\n",
    "yfinance_df = main_data[main_data['source']==\"finance.yahoo.com\"]\n",
    "yfinance_codes = yfinance_df['code'].to_numpy().tolist()\n"
   ]
  },
  {
   "cell_type": "markdown",
   "id": "2166b624",
   "metadata": {},
   "source": [
    "# Функции экстракции"
   ]
  },
  {
   "cell_type": "code",
   "execution_count": 65,
   "id": "9d1e468c",
   "metadata": {},
   "outputs": [],
   "source": [
    "def get_pif_naufor_quotes(code):\n",
    "    '''\n",
    "    получаем данные с naufor.ru\n",
    "    '''\n",
    "    referer = 'http://pif.naufor.ru/pif.asp?act=view&id={}'.format(code)\n",
    "    url = 'http://pif.naufor.ru/pif.asp?act=getpayschajson&id={}&begindate=20030313&enddate=20210601'.format(code)\n",
    "    resp = requests.get(url, headers={'referer': referer})\n",
    "    \n",
    "    blank_array = []\n",
    "    result_dict = resp.json()\n",
    "    \n",
    "    for index, date in enumerate(result_dict['Label']): \n",
    "        dd = date.split('.')\n",
    "        blank_array.append({\n",
    "            'source': 'naufor.ru',\n",
    "            'code': code,\n",
    "            'date': \"{year}-{month}-{day}\".format(year=dd[2], month=dd[1], day=dd[0]),\n",
    "            'price': result_dict['UnitValue'][index]\n",
    "        })\n",
    "\n",
    "    return blank_array\n",
    "\n",
    "def get_yahoo_finance_quote(ticker, Start, End):\n",
    "    '''\n",
    "    получаем данные с finance.yahoo.com\n",
    "    '''\n",
    "    yf.pdr_override() \n",
    "    data2 = pdr.get_data_yahoo(ticker, start=Start, end=End)\n",
    "    output = pd.DataFrame(data=data2['Close'])\n",
    "    output['code'] = ticker\n",
    "    clr = output.reset_index().to_dict('records')\n",
    "    res = []\n",
    "    for row in clr:\n",
    "        res.append({\n",
    "            'source': 'finance.yahoo.com',\n",
    "            'code': ticker,\n",
    "            'date': row['Date'].strftime('%Y-%m-%d'),\n",
    "            'price': row['Close']\n",
    "        })\n",
    "    return res"
   ]
  },
  {
   "cell_type": "markdown",
   "id": "7a61f08e",
   "metadata": {},
   "source": [
    "# Извлечение данных с naufor"
   ]
  },
  {
   "cell_type": "code",
   "execution_count": 48,
   "id": "13caa339",
   "metadata": {
    "scrolled": true
   },
   "outputs": [
    {
     "name": "stdout",
     "output_type": "stream",
     "text": [
      "Ready code: 299\n",
      "Ready code: 60\n",
      "Ready code: 2746\n",
      "Ready code: 4017\n",
      "Ready code: 2880\n",
      "Ready code: 651\n",
      "Ready code: 3830\n",
      "Ready code: 662\n",
      "Ready code: 525\n",
      "Ready code: 63\n",
      "Ready code: 2322\n",
      "Ready code: 3823\n",
      "Ready code: 4394\n",
      "Ready code: 66\n",
      "Ready code: 606\n",
      "Ready code: 256\n",
      "Ready code: 107\n"
     ]
    }
   ],
   "source": [
    "all_data = []\n",
    "for code in naufor_codes:\n",
    "    all_data += get_pif_naufor_quotes(code)\n",
    "    print(\"[naufor]Ready code: {}\".format(code))"
   ]
  },
  {
   "cell_type": "code",
   "execution_count": 49,
   "id": "96abba98",
   "metadata": {
    "scrolled": true
   },
   "outputs": [
    {
     "name": "stdout",
     "output_type": "stream",
     "text": [
      "[*********************100%***********************]  1 of 1 completed\n",
      "[get_yahoo_finance_quote]Ready code: GAZP.ME\n",
      "[*********************100%***********************]  1 of 1 completed\n",
      "[get_yahoo_finance_quote]Ready code: GMKN.ME\n",
      "[*********************100%***********************]  1 of 1 completed\n",
      "[get_yahoo_finance_quote]Ready code: LKOH.ME\n",
      "[*********************100%***********************]  1 of 1 completed\n",
      "[get_yahoo_finance_quote]Ready code: MGNT.ME\n",
      "[*********************100%***********************]  1 of 1 completed\n",
      "[get_yahoo_finance_quote]Ready code: MTSS.ME\n",
      "[*********************100%***********************]  1 of 1 completed\n",
      "[get_yahoo_finance_quote]Ready code: NLMK.ME\n",
      "[*********************100%***********************]  1 of 1 completed\n",
      "[get_yahoo_finance_quote]Ready code: NVTK.ME\n",
      "[*********************100%***********************]  1 of 1 completed\n",
      "[get_yahoo_finance_quote]Ready code: PLZL.ME\n",
      "[*********************100%***********************]  1 of 1 completed\n",
      "[get_yahoo_finance_quote]Ready code: ROSN.ME\n",
      "[*********************100%***********************]  1 of 1 completed\n",
      "[get_yahoo_finance_quote]Ready code: SBER.ME\n",
      "[*********************100%***********************]  1 of 1 completed\n",
      "[get_yahoo_finance_quote]Ready code: SNGS.ME\n",
      "[*********************100%***********************]  1 of 1 completed\n",
      "[get_yahoo_finance_quote]Ready code: TATN.ME\n",
      "[*********************100%***********************]  1 of 1 completed\n",
      "[get_yahoo_finance_quote]Ready code: AAPL\n",
      "[*********************100%***********************]  1 of 1 completed\n",
      "[get_yahoo_finance_quote]Ready code: MSFT\n",
      "[*********************100%***********************]  1 of 1 completed\n",
      "[get_yahoo_finance_quote]Ready code: GOOG\n",
      "[*********************100%***********************]  1 of 1 completed\n",
      "[get_yahoo_finance_quote]Ready code: AMZN\n",
      "[*********************100%***********************]  1 of 1 completed\n",
      "[get_yahoo_finance_quote]Ready code: FB\n",
      "[*********************100%***********************]  1 of 1 completed\n",
      "[get_yahoo_finance_quote]Ready code: TSLA\n",
      "[*********************100%***********************]  1 of 1 completed\n",
      "[get_yahoo_finance_quote]Ready code: NVDA\n",
      "[*********************100%***********************]  1 of 1 completed\n",
      "[get_yahoo_finance_quote]Ready code: V\n",
      "[*********************100%***********************]  1 of 1 completed\n",
      "[get_yahoo_finance_quote]Ready code: JPM\n",
      "[*********************100%***********************]  1 of 1 completed\n",
      "[get_yahoo_finance_quote]Ready code: JNJ\n",
      "[*********************100%***********************]  1 of 1 completed\n",
      "[get_yahoo_finance_quote]Ready code: WMT\n",
      "[*********************100%***********************]  1 of 1 completed\n",
      "[get_yahoo_finance_quote]Ready code: UNH\n",
      "[*********************100%***********************]  1 of 1 completed\n",
      "[get_yahoo_finance_quote]Ready code: MA\n",
      "[*********************100%***********************]  1 of 1 completed\n",
      "[get_yahoo_finance_quote]Ready code: HD\n",
      "[*********************100%***********************]  1 of 1 completed\n",
      "[get_yahoo_finance_quote]Ready code: PG\n",
      "[*********************100%***********************]  1 of 1 completed\n",
      "[get_yahoo_finance_quote]Ready code: BAC\n",
      "[*********************100%***********************]  1 of 1 completed\n",
      "[get_yahoo_finance_quote]Ready code: PYPL\n",
      "[*********************100%***********************]  1 of 1 completed\n",
      "[get_yahoo_finance_quote]Ready code: DIS\n",
      "[*********************100%***********************]  1 of 1 completed\n",
      "[get_yahoo_finance_quote]Ready code: ADBE\n",
      "[*********************100%***********************]  1 of 1 completed\n",
      "[get_yahoo_finance_quote]Ready code: NKE\n",
      "[*********************100%***********************]  1 of 1 completed\n",
      "[get_yahoo_finance_quote]Ready code: CMCSA\n",
      "[*********************100%***********************]  1 of 1 completed\n",
      "[get_yahoo_finance_quote]Ready code: LLY\n",
      "[*********************100%***********************]  1 of 1 completed\n",
      "[get_yahoo_finance_quote]Ready code: PFE\n",
      "[*********************100%***********************]  1 of 1 completed\n",
      "[get_yahoo_finance_quote]Ready code: ORCL\n",
      "[*********************100%***********************]  1 of 1 completed\n",
      "[get_yahoo_finance_quote]Ready code: KO\n",
      "[*********************100%***********************]  1 of 1 completed\n",
      "[get_yahoo_finance_quote]Ready code: XOM\n",
      "[*********************100%***********************]  1 of 1 completed\n",
      "[get_yahoo_finance_quote]Ready code: CSCO\n"
     ]
    }
   ],
   "source": [
    "for code in yfinance_codes:\n",
    "    all_data += get_yahoo_finance_quote(code, start, end)\n",
    "    print(\"[get_yahoo_finance_quote]Ready code: {}\".format(code))"
   ]
  },
  {
   "cell_type": "code",
   "execution_count": 66,
   "id": "b3063026",
   "metadata": {},
   "outputs": [],
   "source": [
    "df = pd.DataFrame(all_data)\n",
    "df.to_excel(\"tickers_prices.xlsx\", index=False)"
   ]
  },
  {
   "cell_type": "code",
   "execution_count": null,
   "id": "8dd9e389",
   "metadata": {},
   "outputs": [],
   "source": []
  }
 ],
 "metadata": {
  "kernelspec": {
   "display_name": "Python 3 (ipykernel)",
   "language": "python",
   "name": "python3"
  },
  "language_info": {
   "codemirror_mode": {
    "name": "ipython",
    "version": 3
   },
   "file_extension": ".py",
   "mimetype": "text/x-python",
   "name": "python",
   "nbconvert_exporter": "python",
   "pygments_lexer": "ipython3",
   "version": "3.7.11"
  }
 },
 "nbformat": 4,
 "nbformat_minor": 5
}
